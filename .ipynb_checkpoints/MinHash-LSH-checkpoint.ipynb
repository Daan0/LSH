{
 "cells": [
  {
   "cell_type": "code",
   "execution_count": 130,
   "metadata": {
    "collapsed": true
   },
   "outputs": [],
   "source": [
    "#Algorithm to calculate the jaccard similarity, minhash and local senstive hanshing. \n",
    "import pandas as pd\n",
    "import binascii\n",
    "import random\n",
    "import time\n",
    "\n",
    "# load airline reviews\n",
    "reviews_all = pd.read_csv(\"data/skytrax-reviews-dataset-master/data/airline.csv\").content\n",
    "\n",
    "# num of reviews to analyse\n",
    "numReviews = 1000\n",
    "\n",
    "# subset of reviews\n",
    "reviews = reviews_all[0:numReviews]\n",
    "\n",
    "del reviews_all\n",
    "\n"
   ]
  },
  {
   "cell_type": "code",
   "execution_count": 131,
   "metadata": {},
   "outputs": [
    {
     "name": "stdout",
     "output_type": "stream",
     "text": [
      "Shingling took 0.51 sec\n"
     ]
    }
   ],
   "source": [
    "################\n",
    "# Shingling\n",
    "################\n",
    "\n",
    "t0 = time.time()\n",
    "\n",
    "# set shingle character lenght\n",
    "k_shingle = 10\n",
    "\n",
    "allShingleSets = {}\n",
    "\n",
    "\n",
    "for index, review in enumerate(reviews):\n",
    "    # Contain all unique (no duplicate) shingles of the review\n",
    "    shingleSet = set()\n",
    "    for i in range(len(review) - k_shingle + 1):\n",
    "        shingle = review[i: i + k_shingle].encode()\n",
    "        \n",
    "        # hashing to 32-bit integer\n",
    "        crc = binascii.crc32(shingle) & 0xffffffff\n",
    "        # add hash value to document shingleset if not present yet\n",
    "        shingleSet.add(crc)\n",
    "    \n",
    "    # store all shingle sets from each review together\n",
    "    allShingleSets[index] = shingleSet\n",
    "\n",
    "elapsed = time.time() - t0\n",
    "print(\"Shingling took %.2f sec\" % elapsed)  "
   ]
  },
  {
   "cell_type": "code",
   "execution_count": 134,
   "metadata": {},
   "outputs": [
    {
     "name": "stdout",
     "output_type": "stream",
     "text": [
      "Jaccard took 25.44 sec\n"
     ]
    }
   ],
   "source": [
    "#####################\n",
    "# Jaccard Similarity\n",
    "#####################\n",
    "t0 = time.time()\n",
    "\n",
    "jaccardSimilarities = {}\n",
    "for i, shingleSet1 in allShingleSets.items():\n",
    "    set1 = shingleSet1\n",
    "    for j in range(i+1, len(allShingleSets)):\n",
    "        set2 = allShingleSets[j]\n",
    "    \n",
    "        # calculate and store jaccard similarities\n",
    "        jaccardSimilarities[(i, j)] = (len(set1.intersection(set2))/len(set1.union(set2)))\n",
    "\n",
    "elapsed = time.time() - t0\n",
    "print(\"Jaccard took %.2f sec\" % elapsed)  \n"
   ]
  },
  {
   "cell_type": "code",
   "execution_count": 135,
   "metadata": {},
   "outputs": [
    {
     "name": "stdout",
     "output_type": "stream",
     "text": [
      "(222, 236) 1.0\n",
      "I flew from Chicago O'Hare to Dublin and from Dublin to Amsterdam and Amsterdam back to Dublin and Dublin back to O'Hare and I must say I was pleased with the airline. The food was good the entertainment was good and the leg room on the flights was great. Only issue I did have was from Amsterdam to Dublin because we arrived 30 minutes left and nearly missed our connecting flight from Dublin to O'Hare however we made it on time with all of our belongings. Will definitely use Aer Lingus again on any future trips to Ireland.\n",
      "--------\n",
      "I flew from Chicago O'Hare to Dublin and from Dublin to Amsterdam and Amsterdam back to Dublin and Dublin back to O'Hare and I must say I was pleased with the airline. The food was good the entertainment was good and the leg room on the flights was great. Only issue I did have was from Amsterdam to Dublin because we arrived 30 minutes left and nearly missed our connecting flight from Dublin to O'Hare however we made it on time with all of our belongings. Will definitely use Aer Lingus again on any future trips to Ireland.\n",
      "\n",
      "(697, 846) 0.7421383647798742\n",
      "Buenos Aires to Salta to Iguazu. Bit apprehensive after reading reviews but both flights were fine. Punctual efficient and even a decent snack. Both were on Embraer 190 operated by Austral and the second craft was new - excellent seats and seat-back IFE with personal headsets on a flight of less than 2 hours.\n",
      "--------\n",
      "Buenos Aires to Salta to Iguazu. Both flights were fine. Punctual efficient and a decent snack. Both were on Embraer 190 operated by Austral and the second craft was new - excellent seats and seat-back IFE with personal headsets on a flight of less than 2 hours.\n",
      "\n"
     ]
    }
   ],
   "source": [
    "# Print to see top results of jaccard\n",
    "for index, value in jaccardSimilarities.items():\n",
    "    if value >= 0.4:\n",
    "        print(index, value)\n",
    "        print(reviews[index[0]])\n",
    "        print(\"--------\")\n",
    "        print(reviews[index[1]])\n",
    "        print()\n",
    "        \n",
    "del jaccardSimilarities"
   ]
  },
  {
   "cell_type": "code",
   "execution_count": 141,
   "metadata": {},
   "outputs": [
    {
     "name": "stdout",
     "output_type": "stream",
     "text": [
      "MinHashing for 10 hashfunctions took 3.22 sec\n"
     ]
    }
   ],
   "source": [
    "################\n",
    "# MinHash\n",
    "################\n",
    "t0 = time.time()\n",
    "numHashes = 10\n",
    "maxShingle = 2**32-1\n",
    "maxShingle\n",
    "\n",
    "maxPrime = 4294967311\n",
    "\n",
    "# hash function takes form h(x) = (a*x + b) mod c\n",
    "# a anb b are random coefficients generated by function below, \n",
    "# c is equal to the first prime number outside our hash bounds\n",
    "def randomCoefficients(numHashes):\n",
    "    # list all coefficients\n",
    "    coeffList = []\n",
    "\n",
    "    for i in range(0, numHashes):\n",
    "        randCoeff = random.randint(0, maxShingle)\n",
    "\n",
    "        # ensure unique coefficients\n",
    "        while randCoeff in coeffList:\n",
    "            randCoeff = random.randint(0, maxShingle)\n",
    "\n",
    "        coeffList.append(randCoeff)\n",
    "    return coeffList\n",
    "\n",
    "coeffA = randomCoefficients(numHashes)\n",
    "coeffB = randomCoefficients(numHashes)\n",
    "\n",
    "# signature vectors\n",
    "signatures = []\n",
    "\n",
    "# hashfunction on shingle and take lowest value\n",
    "for index, shingleSet in allShingleSets.items():\n",
    "    \n",
    "    sig = []\n",
    "    \n",
    "    for i in range(0, numHashes):\n",
    "        minHash = maxPrime + 1\n",
    "        for shingle in shingleSet:\n",
    "            hashCode = (coeffA[i]*shingle + coeffB[i]) % maxPrime\n",
    "            \n",
    "            if hashCode < minHash:\n",
    "                minHash = hashCode\n",
    "        \n",
    "        sig.append(minHash)\n",
    "    \n",
    "    signatures.append(sig)\n",
    "\n",
    "elapsed = time.time() - t0\n",
    "print(\"MinHashing for\", numHashes, \"hashfunctions took %.2f sec\" % elapsed)  \n",
    "    "
   ]
  },
  {
   "cell_type": "code",
   "execution_count": 142,
   "metadata": {},
   "outputs": [
    {
     "name": "stdout",
     "output_type": "stream",
     "text": [
      "Comparing signatures took 1.32 sec\n"
     ]
    }
   ],
   "source": [
    "#####################\n",
    "# Compare signatures\n",
    "#####################\n",
    "t0 = time.time()\n",
    "est_jacc = {}\n",
    "\n",
    "# evaluate each signature with another\n",
    "for i in range(0, numReviews):\n",
    "    sig1 = signatures[i]\n",
    "    \n",
    "    for j in range (i+1, numReviews):\n",
    "        sig2 = signatures[j]\n",
    "        \n",
    "        # count the number of equivalent values in signature\n",
    "        count = 0\n",
    "        \n",
    "        for k in range(0, numHashes):\n",
    "            if sig1[k] == sig2[k]:\n",
    "                count += 1\n",
    "        \n",
    "        # calculate ratio of matched values in signatures\n",
    "        est_jacc[(i, j)] = count/numHashes\n",
    "                \n",
    "elapsed = time.time() - t0\n",
    "print(\"Comparing signatures took %.2f sec\" % elapsed)          "
   ]
  },
  {
   "cell_type": "code",
   "execution_count": 143,
   "metadata": {},
   "outputs": [
    {
     "name": "stdout",
     "output_type": "stream",
     "text": [
      "(222, 236) 1.0\n",
      "I flew from Chicago O'Hare to Dublin and from Dublin to Amsterdam and Amsterdam back to Dublin and Dublin back to O'Hare and I must say I was pleased with the airline. The food was good the entertainment was good and the leg room on the flights was great. Only issue I did have was from Amsterdam to Dublin because we arrived 30 minutes left and nearly missed our connecting flight from Dublin to O'Hare however we made it on time with all of our belongings. Will definitely use Aer Lingus again on any future trips to Ireland.\n",
      "--------\n",
      "I flew from Chicago O'Hare to Dublin and from Dublin to Amsterdam and Amsterdam back to Dublin and Dublin back to O'Hare and I must say I was pleased with the airline. The food was good the entertainment was good and the leg room on the flights was great. Only issue I did have was from Amsterdam to Dublin because we arrived 30 minutes left and nearly missed our connecting flight from Dublin to O'Hare however we made it on time with all of our belongings. Will definitely use Aer Lingus again on any future trips to Ireland.\n",
      "\n",
      "(406, 426) 0.5\n",
      "Santa Cruz Bolivia to Sao Paulo Brazil - a saving of about $50US over GOL. At the airport check-in was easy. I recommend that you arrive early to avoid the impending line. The counter staff was as friendly and they did not charge me for my extra luggage weight. I was impressed by the 737 that AeroSur is using on this international flight [do note that most AeroSur flights use aging 727s]. The flight attendants served a box meal and drinks on this two hours flight and we arrived on time. .\n",
      "--------\n",
      "Santa Cruz Bolivia to Sao Paulo Brazil. At the airport check-in was easy. It pays to arrive early and avoid the impending line. The counter staff was friendly and they did not charge me for my extra weight (about 4 kilos). I was impressed by the new 737 that Aerosur used on this leg - most AeroSur flights use older 727. The flight attendants served a box meal and drinks on a 2 hours flight and we arrived on time. I would use them again for this route.\n",
      "\n",
      "(697, 846) 0.7\n",
      "Buenos Aires to Salta to Iguazu. Bit apprehensive after reading reviews but both flights were fine. Punctual efficient and even a decent snack. Both were on Embraer 190 operated by Austral and the second craft was new - excellent seats and seat-back IFE with personal headsets on a flight of less than 2 hours.\n",
      "--------\n",
      "Buenos Aires to Salta to Iguazu. Both flights were fine. Punctual efficient and a decent snack. Both were on Embraer 190 operated by Austral and the second craft was new - excellent seats and seat-back IFE with personal headsets on a flight of less than 2 hours.\n",
      "\n"
     ]
    }
   ],
   "source": [
    "for index, value in est_jacc.items():\n",
    "    if value >= 0.4:\n",
    "        print(index, value)\n",
    "        print(reviews[index[0]])\n",
    "        print(\"--------\")\n",
    "        print(reviews[index[1]])\n",
    "        print()\n",
    "del est_jacc"
   ]
  },
  {
   "cell_type": "code",
   "execution_count": null,
   "metadata": {},
   "outputs": [],
   "source": [
    "#########\n",
    "# LSH\n",
    "#########\n",
    "t0 = time.time()\n",
    "bands = 50\n",
    "rows = 2\n",
    "\n",
    "#Approximate threshold\n",
    "threshold = (1/bands)**(1/rows)\n",
    "print(threshold)\n",
    "\n",
    "candidate_pairs = {}\n",
    "                \n",
    "for band in range(0, bands):\n",
    "    for i in range(0, numReviews):\n",
    "        band_hash1 = hash(tuple(signatures[i][band*rows:band*rows+rows]))\n",
    "        for j in range(i+1, numReviews):\n",
    "            band_hash2 = hash(tuple(signatures[j][band*rows:band*rows+rows]))\n",
    "            if band_hash1 == band_hash2:\n",
    "                c = (i, j)\n",
    "                if c not in candidate_pairs:\n",
    "                    candidate_pairs[(i, j)] = 1\n",
    "                else:\n",
    "                    candidate_pairs[(i, j)] += 1\n",
    "                \n",
    "for c_pair, matching_bands in candidate_pairs.items() :\n",
    "    if (matching_bands/bands) >= threshold:\n",
    "        print(c_pair)\n",
    "        print(matching_bands)\n",
    "        sig1 = signatures[c_pair[0]]\n",
    "        sig2 = signatures[c_pair[1]]\n",
    "        \n",
    "         # count the number of equivalent values in signature\n",
    "        count = 0\n",
    "        \n",
    "        for k in range(0, numHashes):\n",
    "            if sig1[k] == sig2[k]:\n",
    "                count += 1\n",
    "                \n",
    "        # calculate ratio of matched values in signatures\n",
    "        candidates_similarity = count/numHashes\n",
    "        elapsed = time.time() - t0\n",
    "        print(\"LSH for\", bands, \"bands,\", rows, \"rows,\", \"and threshold\", threshold, \"took %.2f sec\" % elapsed)\n",
    "        print(candidates_similarity)\n",
    "        \n",
    "        print(reviews[c_pair[0]])\n",
    "        print(\"-----\")\n",
    "        print(reviews[c_pair[1]])\n",
    "        \n",
    "    if matching_bands > 2:\n",
    "        print(c_pair)\n",
    "        \n",
    "del candidate_pairs\n",
    "del candidates_similarity\n",
    "        \n",
    "  "
   ]
  }
 ],
 "metadata": {
  "kernelspec": {
   "display_name": "Python 3",
   "language": "python",
   "name": "python3"
  },
  "language_info": {
   "codemirror_mode": {
    "name": "ipython",
    "version": 3
   },
   "file_extension": ".py",
   "mimetype": "text/x-python",
   "name": "python",
   "nbconvert_exporter": "python",
   "pygments_lexer": "ipython3",
   "version": "3.6.3"
  }
 },
 "nbformat": 4,
 "nbformat_minor": 2
}
